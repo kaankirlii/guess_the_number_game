{
  "nbformat": 4,
  "nbformat_minor": 0,
  "metadata": {
    "colab": {
      "provenance": []
    },
    "kernelspec": {
      "name": "python3",
      "display_name": "Python 3"
    },
    "language_info": {
      "name": "python"
    }
  },
  "cells": [
    {
      "cell_type": "markdown",
      "source": [
        "# Sayı Tahmini Oyunu (Guess the number)\n"
      ],
      "metadata": {
        "id": "9SxtrqUptJQG"
      }
    },
    {
      "cell_type": "markdown",
      "source": [
        "Random metodu 1 ve 10 arası sayı atasın. Tahmin edilen sayı kullanıcıdan istensin. While ile döngü sayı bulunana kadar devam etsin. Eğer kullanıcının girdiği sayı, tahmin edilenden düşük veya yüksek ise kullanıcı tekrar sayı girsin. Tahmin edilen sayı bulununca da print metodu ile sayının bulunduğu söylensin.   \n",
        "\n",
        "---\n",
        "\n",
        "Let the random method assign numbers between 1 and 10. The estimated number is requested from the user. With while, the loop continues until the number is found. If the number entered by the user is lower or higher than predicted, the user should enter the number again. When the predicted number is found, let it be said that the number is found with the print method."
      ],
      "metadata": {
        "id": "ur9Q57P2ujWH"
      }
    },
    {
      "cell_type": "code",
      "execution_count": 4,
      "metadata": {
        "colab": {
          "base_uri": "https://localhost:8080/"
        },
        "id": "RJk8dwvBtDci",
        "outputId": "fc29a12b-c7d2-4d39-f060-4327178ada92"
      },
      "outputs": [
        {
          "output_type": "stream",
          "name": "stdout",
          "text": [
            "Enter a number between 1 and 10: 7\n",
            "Low\n",
            "Enter a number again: 8\n",
            "Your guess is true!\n"
          ]
        }
      ],
      "source": [
        "import random\n",
        "n=random.randint(1,10)\n",
        "guessed=int(input(\"Enter a number between 1 and 10: \"))\n",
        "\n",
        "while n!=guessed:\n",
        "  if guessed<n:\n",
        "    print(\"Low\")\n",
        "    guessed=int(input(\"Enter a number again: \"))\n",
        "  elif guessed>n:\n",
        "    print(\"High\")\n",
        "    guessed=int(input(\"Enter a number again: \"))\n",
        "  else:\n",
        "    break\n",
        "print(\"Your guess is true!\")  "
      ]
    }
  ]
}